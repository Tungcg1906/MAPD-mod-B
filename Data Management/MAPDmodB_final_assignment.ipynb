{
 "cells": [
  {
   "cell_type": "markdown",
   "id": "indoor-washington",
   "metadata": {},
   "source": [
    "# Final assignment of “Management and Analysis of Physics Datasets” - Part 2\n",
    "\n",
    "## Dr. Andreas-Joachim Peters - CERN"
   ]
  },
  {
   "cell_type": "markdown",
   "id": "legendary-coach",
   "metadata": {},
   "source": [
    "Author: Nguyen Xuan Tung \n",
    "\n",
    "ID: 2005491"
   ]
  },
  {
   "cell_type": "markdown",
   "id": "reduced-cedar",
   "metadata": {},
   "source": [
    "## 0. Fun exercise"
   ]
  },
  {
   "cell_type": "markdown",
   "id": "developmental-adventure",
   "metadata": {},
   "source": [
    " 1 + 2 = 3\n",
    " \n",
    " 2 + 5 = 7\n",
    " \n",
    " 3 + 7 = 4 \n",
    " \n",
    " 4 + 5 = ?\n",
    " \n",
    " 5 + 9 = 12\n",
    " "
   ]
  },
  {
   "cell_type": "markdown",
   "id": "straight-reserve",
   "metadata": {},
   "source": [
    "You might have seen this kind of puzzles on social media. It should be\n",
    "straight-forward for you to understand which operations connect the two\n",
    "numbers before the = sign. What is the result of the ? field ? Show proof\n",
    "for each line!"
   ]
  },
  {
   "cell_type": "markdown",
   "id": "tamil-layer",
   "metadata": {},
   "source": [
    "Rewrite the digit as binary: \n",
    "\n",
    " 1 + 2 = 3 => f(01,10) = 11\n",
    " \n",
    " 2 + 5 = 7 => f(010,101) = 111\n",
    " \n",
    " 3 + 7 = 4 => f(011,111) = 100\n",
    " \n",
    " 4 + 5 = ? => f(100,101) = 001\n",
    " \n",
    " 5 + 9 = 12 => f(0101,1001) = 1100\n",
    " \n",
    " 001 = 1 so 4 + 5 = 1\n",
    "\n"
   ]
  },
  {
   "cell_type": "markdown",
   "id": "sunset-heather",
   "metadata": {},
   "source": [
    "The result: \n",
    " \n",
    " 1 + 2 = 3\n",
    " \n",
    " 2 + 5 = 7\n",
    " \n",
    " 3 + 7 = 4 \n",
    " \n",
    " 4 + 5 = 1\n",
    " \n",
    " 5 + 9 = 12"
   ]
  },
  {
   "cell_type": "markdown",
   "id": "mobile-creation",
   "metadata": {},
   "source": [
    "## 1. Redundancy"
   ]
  },
  {
   "cell_type": "markdown",
   "id": "twenty-trout",
   "metadata": {},
   "source": [
    "We are programming a file based RAID-4 software algorithm. For this\n",
    "purpose we are converting a single input (raid4.input) file into four data\n",
    "files raid4.0,raid4.1,raid4.2,raid4.3 and one parity file\n",
    "raid4.4 - the four data and one parity file we call ‘stripe files’.\n",
    "\n",
    "The input file can be downloaded from:\n",
    "\n",
    "http://apeters.web.cern.ch/apeters/pd2021/raid4.input\n",
    "\n",
    "To do this we are reading in a loop sequentially blocks of four bytes from the input\n",
    "file until the whole file is read:\n",
    "\n",
    "• in each loop we write one of the four read bytes round-robin to each data file,\n",
    "compute the parity of the four input bytes and write the result into the fifth parity\n",
    "file. ( see the drawing for better understanding )\n",
    "\n",
    "• we continue until all input data has been read. If the last bytes read from the input\n",
    "file are not filling four bytes, we consider the missing bytes as zero for the parity\n",
    "computation."
   ]
  },
  {
   "cell_type": "code",
   "execution_count": 17,
   "id": "wrong-simon",
   "metadata": {},
   "outputs": [],
   "source": [
    "import numpy as np\n",
    "\n",
    "def get_arr(path): # function get the file as an array\n",
    "    with open(path,'r+b') as file:\n",
    "        v = np.frombuffer(file.read(),dtype = np.uint8)\n",
    "    return v\n",
    "\n",
    "\n",
    "def post_arr(arr, path): # function write array to file, convert to bytes\n",
    "    with open(path,'w+b') as file:\n",
    "        file.write(arr.tobytes())\n",
    "    return\n",
    "\n",
    "\n",
    "def xor_arr(matrix):# function applies the bitwise xor function to a collection of arrays, given as rows in a matrix\n",
    "    # Neutral xor array\n",
    "    v = np.zeros(len(matrix[0]),dtype = np.uint8)\n",
    "    # Applying bitwise_xor between the matrix rows\n",
    "    for arr in matrix:\n",
    "        v = np.bitwise_xor(v,arr)\n",
    "    return v"
   ]
  },
  {
   "cell_type": "markdown",
   "id": "interesting-rugby",
   "metadata": {},
   "source": [
    "### 1.1 Write a program (C,C++, R or Python), which produces four striped data and one parity file as described above using the given input file hint: if you have a problem programming this yourself, you can download the core program in C++ from from http://apeters.web.cern.ch/apeters/pd2021/raid4.c "
   ]
  },
  {
   "cell_type": "code",
   "execution_count": 18,
   "id": "voluntary-exhibition",
   "metadata": {},
   "outputs": [
    {
     "ename": "FileNotFoundError",
     "evalue": "[Errno 2] No such file or directory: 'raid4.input'",
     "output_type": "error",
     "traceback": [
      "\u001b[1;31m---------------------------------------------------------------------------\u001b[0m",
      "\u001b[1;31mFileNotFoundError\u001b[0m                         Traceback (most recent call last)",
      "\u001b[1;32m<ipython-input-18-7cc9cb7097bb>\u001b[0m in \u001b[0;36m<module>\u001b[1;34m\u001b[0m\n\u001b[0;32m      1\u001b[0m \u001b[0mn\u001b[0m \u001b[1;33m=\u001b[0m \u001b[1;36m4\u001b[0m\u001b[1;33m\u001b[0m\u001b[1;33m\u001b[0m\u001b[0m\n\u001b[0;32m      2\u001b[0m \u001b[0msrc_file\u001b[0m \u001b[1;33m=\u001b[0m \u001b[1;34m'raid4.input'\u001b[0m\u001b[1;33m\u001b[0m\u001b[1;33m\u001b[0m\u001b[0m\n\u001b[1;32m----> 3\u001b[1;33m \u001b[0mall_bytes\u001b[0m \u001b[1;33m=\u001b[0m \u001b[0mget_arr\u001b[0m\u001b[1;33m(\u001b[0m\u001b[0msrc_file\u001b[0m\u001b[1;33m)\u001b[0m\u001b[1;33m\u001b[0m\u001b[1;33m\u001b[0m\u001b[0m\n\u001b[0m\u001b[0;32m      4\u001b[0m \u001b[0mall_bytes\u001b[0m\u001b[1;33m\u001b[0m\u001b[1;33m\u001b[0m\u001b[0m\n\u001b[0;32m      5\u001b[0m \u001b[1;33m\u001b[0m\u001b[0m\n",
      "\u001b[1;32m<ipython-input-17-e506dda344a6>\u001b[0m in \u001b[0;36mget_arr\u001b[1;34m(path)\u001b[0m\n\u001b[0;32m      2\u001b[0m \u001b[1;33m\u001b[0m\u001b[0m\n\u001b[0;32m      3\u001b[0m \u001b[1;32mdef\u001b[0m \u001b[0mget_arr\u001b[0m\u001b[1;33m(\u001b[0m\u001b[0mpath\u001b[0m\u001b[1;33m)\u001b[0m\u001b[1;33m:\u001b[0m \u001b[1;31m# function get the file as an array\u001b[0m\u001b[1;33m\u001b[0m\u001b[1;33m\u001b[0m\u001b[0m\n\u001b[1;32m----> 4\u001b[1;33m     \u001b[1;32mwith\u001b[0m \u001b[0mopen\u001b[0m\u001b[1;33m(\u001b[0m\u001b[0mpath\u001b[0m\u001b[1;33m,\u001b[0m\u001b[1;34m'r+b'\u001b[0m\u001b[1;33m)\u001b[0m \u001b[1;32mas\u001b[0m \u001b[0mfile\u001b[0m\u001b[1;33m:\u001b[0m\u001b[1;33m\u001b[0m\u001b[1;33m\u001b[0m\u001b[0m\n\u001b[0m\u001b[0;32m      5\u001b[0m         \u001b[0mv\u001b[0m \u001b[1;33m=\u001b[0m \u001b[0mnp\u001b[0m\u001b[1;33m.\u001b[0m\u001b[0mfrombuffer\u001b[0m\u001b[1;33m(\u001b[0m\u001b[0mfile\u001b[0m\u001b[1;33m.\u001b[0m\u001b[0mread\u001b[0m\u001b[1;33m(\u001b[0m\u001b[1;33m)\u001b[0m\u001b[1;33m,\u001b[0m\u001b[0mdtype\u001b[0m \u001b[1;33m=\u001b[0m \u001b[0mnp\u001b[0m\u001b[1;33m.\u001b[0m\u001b[0muint8\u001b[0m\u001b[1;33m)\u001b[0m\u001b[1;33m\u001b[0m\u001b[1;33m\u001b[0m\u001b[0m\n\u001b[0;32m      6\u001b[0m     \u001b[1;32mreturn\u001b[0m \u001b[0mv\u001b[0m\u001b[1;33m\u001b[0m\u001b[1;33m\u001b[0m\u001b[0m\n",
      "\u001b[1;31mFileNotFoundError\u001b[0m: [Errno 2] No such file or directory: 'raid4.input'"
     ]
    }
   ],
   "source": [
    "n = 4\n",
    "src_file = 'raid4.input'\n",
    "all_bytes = get_arr(src_file)\n",
    "all_bytes\n",
    "\n",
    "# We calculate how many zeros have to be added in the end\n",
    "extra = n - len(all_bytes)%n\n",
    "bytes_arr = np.hstack([all_bytes,np.zeros(extra, dtype = np.uint8)])\n",
    "\n",
    "# Reshaping array\n",
    "nrows = len(bytes_arr)//n\n",
    "ncols = n\n",
    "bytes_arr = bytes_arr.reshape((nrows,ncols))\n",
    "## Rendered as unsigned integers of 8 bits.\n",
    "bytes_arr"
   ]
  },
  {
   "cell_type": "code",
   "execution_count": 19,
   "id": "conventional-american",
   "metadata": {},
   "outputs": [
    {
     "ename": "NameError",
     "evalue": "name 'bytes_arr' is not defined",
     "output_type": "error",
     "traceback": [
      "\u001b[1;31m---------------------------------------------------------------------------\u001b[0m",
      "\u001b[1;31mNameError\u001b[0m                                 Traceback (most recent call last)",
      "\u001b[1;32m<ipython-input-19-31d30ecd4fe6>\u001b[0m in \u001b[0;36m<module>\u001b[1;34m\u001b[0m\n\u001b[0;32m      1\u001b[0m \u001b[1;31m# Iterate over the columns and generate the files\u001b[0m\u001b[1;33m\u001b[0m\u001b[1;33m\u001b[0m\u001b[1;33m\u001b[0m\u001b[0m\n\u001b[1;32m----> 2\u001b[1;33m \u001b[1;32mfor\u001b[0m \u001b[0mi\u001b[0m\u001b[1;33m,\u001b[0m \u001b[0mv\u001b[0m \u001b[1;32min\u001b[0m \u001b[0menumerate\u001b[0m\u001b[1;33m(\u001b[0m\u001b[0mbytes_arr\u001b[0m\u001b[1;33m.\u001b[0m\u001b[0mT\u001b[0m\u001b[1;33m)\u001b[0m\u001b[1;33m:\u001b[0m\u001b[1;33m\u001b[0m\u001b[1;33m\u001b[0m\u001b[0m\n\u001b[0m\u001b[0;32m      3\u001b[0m     \u001b[0mpost_arr\u001b[0m\u001b[1;33m(\u001b[0m\u001b[0mv\u001b[0m\u001b[1;33m,\u001b[0m \u001b[1;34mf'raid{n}.{i}'\u001b[0m\u001b[1;33m)\u001b[0m\u001b[1;33m\u001b[0m\u001b[1;33m\u001b[0m\u001b[0m\n\u001b[0;32m      4\u001b[0m \u001b[1;33m\u001b[0m\u001b[0m\n\u001b[0;32m      5\u001b[0m \u001b[1;31m# Evaluating parity between stripes\u001b[0m\u001b[1;33m\u001b[0m\u001b[1;33m\u001b[0m\u001b[1;33m\u001b[0m\u001b[0m\n",
      "\u001b[1;31mNameError\u001b[0m: name 'bytes_arr' is not defined"
     ]
    }
   ],
   "source": [
    "\n",
    "# Iterate over the columns and generate the files\n",
    "for i, v in enumerate(bytes_arr.T):\n",
    "    post_arr(v, f'raid{n}.{i}')\n",
    "\n",
    "# Evaluating parity between stripes\n",
    "row_p = xor_arr(bytes_arr.T)\n",
    "\n",
    "#Store the row parity\n",
    "post_arr(row_p,f'raid{n}.{n}')"
   ]
  },
  {
   "cell_type": "code",
   "execution_count": 20,
   "id": "surgical-rotation",
   "metadata": {},
   "outputs": [
    {
     "ename": "NameError",
     "evalue": "name 'row_p' is not defined",
     "output_type": "error",
     "traceback": [
      "\u001b[1;31m---------------------------------------------------------------------------\u001b[0m",
      "\u001b[1;31mNameError\u001b[0m                                 Traceback (most recent call last)",
      "\u001b[1;32m<ipython-input-20-018f257909ad>\u001b[0m in \u001b[0;36m<module>\u001b[1;34m\u001b[0m\n\u001b[0;32m      1\u001b[0m \u001b[1;31m## Unsigned 8bit integer representation of the parity stripe\u001b[0m\u001b[1;33m\u001b[0m\u001b[1;33m\u001b[0m\u001b[1;33m\u001b[0m\u001b[0m\n\u001b[1;32m----> 2\u001b[1;33m \u001b[0mrow_p\u001b[0m\u001b[1;33m.\u001b[0m\u001b[0mT\u001b[0m\u001b[1;33m\u001b[0m\u001b[1;33m\u001b[0m\u001b[0m\n\u001b[0m",
      "\u001b[1;31mNameError\u001b[0m: name 'row_p' is not defined"
     ]
    }
   ],
   "source": [
    "\n",
    "## Unsigned 8bit integer representation of the parity stripe\n",
    "row_p.T"
   ]
  },
  {
   "cell_type": "markdown",
   "id": "floppy-warren",
   "metadata": {},
   "source": [
    "### 1.2"
   ]
  },
  {
   "cell_type": "code",
   "execution_count": null,
   "id": "ambient-principal",
   "metadata": {},
   "outputs": [],
   "source": []
  },
  {
   "cell_type": "code",
   "execution_count": null,
   "id": "junior-arthritis",
   "metadata": {},
   "outputs": [],
   "source": []
  },
  {
   "cell_type": "markdown",
   "id": "thick-store",
   "metadata": {},
   "source": [
    "### 1.3"
   ]
  },
  {
   "cell_type": "code",
   "execution_count": null,
   "id": "resident-google",
   "metadata": {},
   "outputs": [],
   "source": []
  },
  {
   "cell_type": "markdown",
   "id": "veterinary-palace",
   "metadata": {},
   "source": [
    "### 1.4"
   ]
  },
  {
   "cell_type": "code",
   "execution_count": null,
   "id": "imposed-governor",
   "metadata": {},
   "outputs": [],
   "source": []
  },
  {
   "cell_type": "markdown",
   "id": "foreign-lyric",
   "metadata": {},
   "source": [
    "### 1.5"
   ]
  },
  {
   "cell_type": "code",
   "execution_count": null,
   "id": "bored-drilling",
   "metadata": {},
   "outputs": [],
   "source": []
  },
  {
   "cell_type": "code",
   "execution_count": null,
   "id": "quiet-pacific",
   "metadata": {},
   "outputs": [],
   "source": []
  },
  {
   "cell_type": "markdown",
   "id": "documented-organ",
   "metadata": {},
   "source": [
    "## 2. Cryptography "
   ]
  },
  {
   "cell_type": "markdown",
   "id": "significant-clock",
   "metadata": {},
   "source": [
    "The Caesar cipher is named for Julius Caesar, who\n",
    "used an alphabet where decrypting would shift three\n",
    "letters to the left.\n",
    "\n",
    "A friend has emailed you the following text:\n",
    "K]amua!trgpy\n",
    "\n",
    "She told you that her encryption algorithm works\n",
    "similar to the Caesar cipher:\n",
    "    \n",
    "• to each ASCI value of each letter I add a secret key\n",
    "value.\n",
    "(note that ASCII values range from 0 to 255)\n",
    "\n",
    "• additionally to make it more secure I add a variable (so called) nonce\n",
    "value to each ASCII number.\n",
    "\n",
    "The nonce start value is 5 for the first character of the message. For each\n",
    "following character add 1 to the nonce of the previous character, e.g. for\n",
    "the second letter the nonce added is 6, for the third letter it is 7 aso. \n"
   ]
  },
  {
   "cell_type": "markdown",
   "id": "natural-opening",
   "metadata": {},
   "source": [
    "### 2.1  Is this symmetric or asymmetric encryption and explain why?\n"
   ]
  },
  {
   "cell_type": "markdown",
   "id": "hollow-while",
   "metadata": {},
   "source": [
    "This is symmetric encryption because the sender and the receiver only need the public key just containing the information about the shifts of the characters."
   ]
  },
  {
   "cell_type": "markdown",
   "id": "isolated-noise",
   "metadata": {},
   "source": [
    "### 2.2 Write a small brute force program which tests keys from 0..255 and use a dictionary approach to figure out the original message. In Python you can use the ord() function to get an integer representation of a character and the chr() to retrieve a character string from an integer! "
   ]
  },
  {
   "cell_type": "code",
   "execution_count": 6,
   "id": "given-convention",
   "metadata": {},
   "outputs": [],
   "source": [
    "#!pip install pyenchant\n",
    "import re, string, enchant\n",
    "d = enchant.Dict(\"en_US\")"
   ]
  },
  {
   "cell_type": "code",
   "execution_count": 13,
   "id": "intelligent-hawaii",
   "metadata": {},
   "outputs": [],
   "source": [
    "def reshift(letter,ascimin,ascimax): #decrypt method function\n",
    "    if ord(letter) < ascimin:\n",
    "        return chr(ord(letter) - ascimin + ascimax + 1)\n",
    "    elif ord(letter) > ascimax:\n",
    "        return chr(-ascimax + ord(letter) + ascimin - 1)\n",
    "    else:\n",
    "        return letter\n",
    "\n",
    "def decrypt(mex,nonce0,shift,ascimin,ascimax): #decryption function\n",
    "    word = []\n",
    "    nonce = nonce0 #choose nonce0 as the starting value\n",
    "    \n",
    "    for letter in mex:\n",
    "        shiftedchr = chr(ord(letter) - nonce + shift) #nonce must be negative in decrypting\n",
    "        correctedshiftedchr = reshift(reshift(shiftedchr,ascimin,ascimax),ascimin,ascimax)\n",
    "        word.append(correctedshiftedchr)\n",
    "        nonce = nonce + 1 \n",
    "        \n",
    "    return word\n",
    "\n",
    "def stringtowords(phrase): #decrypt setting proposal function    \n",
    "    clear_word = ''\n",
    "    for char in phrase:\n",
    "        if char not in string.punctuation:\n",
    "            clear_word += char\n",
    "    return clear_word.lower().split()"
   ]
  },
  {
   "cell_type": "code",
   "execution_count": 14,
   "id": "fitting-breathing",
   "metadata": {},
   "outputs": [
    {
     "name": "stdout",
     "output_type": "stream",
     "text": [
      "10 : padova rocks\n",
      "25 : ps prz\n",
      "246 : mpbm ow\n"
     ]
    }
   ],
   "source": [
    "ascimax = 255\n",
    "ascimin = 0\n",
    "mex = 'K]amua!trgpy'\n",
    "nonce0 = 5\n",
    "\n",
    "for i in range(ascimin,ascimax):\n",
    "    decrypted = decrypt(mex,nonce0,i,ascimin,ascimax)\n",
    "    words = stringtowords(decrypted)\n",
    "    for word in words:\n",
    "        if len(word) != 1:\n",
    "            try:\n",
    "                d.check(word)\n",
    "                if d.check(word) == True:\n",
    "                    print(i,':',' '.join(words))\n",
    "            except:\n",
    "                pass"
   ]
  },
  {
   "cell_type": "code",
   "execution_count": 15,
   "id": "homeless-attribute",
   "metadata": {},
   "outputs": [
    {
     "name": "stdout",
     "output_type": "stream",
     "text": [
      "The used key is 10, the original message text is Padova rocks!\n"
     ]
    }
   ],
   "source": [
    "print(\"The used key is 10, the original message text is Padova rocks!\")"
   ]
  },
  {
   "cell_type": "markdown",
   "id": "advance-diary",
   "metadata": {},
   "source": [
    "## 3. Object Storage Technology"
   ]
  },
  {
   "cell_type": "markdown",
   "id": "agreed-membership",
   "metadata": {},
   "source": [
    "In an object storage system we are mapping objects by name to locations\n",
    "using a hash table.\n",
    "\n",
    "Imagine we have a system with ten hard disks (10 locations). We\n",
    "enumerate the location of a file using an index of the hard disk [0..9]. \n",
    "\n",
    "Our hash algorithm for placement produces hashes, which are distributed\n",
    "uniform over the value space for a flat input key distribution.\n",
    "\n",
    "We want now to simulate the behaviour of our hash algorithm without\n",
    "the need to actually compute any hash value.\n",
    "\n",
    "Instead of using real filenames, which we would hash and map using a\n",
    "hash table to a location (as we did in the exercise), we are ‘computing’ a\n",
    "location for ‘any’ file by generating a random number for the location\n",
    "in the range [0..9] to assign a file location. To place a file in the storage\n",
    "system we use this random location where the file will be stored and\n",
    "consumes space. \n",
    "\n",
    "Assume each disk has 1TB of space, we have 10TB in total.\n",
    "\n",
    "Place as many files of 10GB size as possible to hard disks choosing\n",
    "random locations until one hard disk is full.\n",
    "\n",
    "Hint: a hard disk is full once you have stored hundred 10GB files."
   ]
  },
  {
   "cell_type": "markdown",
   "id": "north-reality",
   "metadata": {},
   "source": [
    "### 3.1"
   ]
  },
  {
   "cell_type": "markdown",
   "id": "brief-dependence",
   "metadata": {},
   "source": [
    "#### 3.1.a"
   ]
  },
  {
   "cell_type": "code",
   "execution_count": null,
   "id": "present-mistake",
   "metadata": {},
   "outputs": [],
   "source": []
  },
  {
   "cell_type": "markdown",
   "id": "handed-robert",
   "metadata": {},
   "source": [
    "#### 3.1.b"
   ]
  },
  {
   "cell_type": "code",
   "execution_count": null,
   "id": "embedded-sharp",
   "metadata": {},
   "outputs": [],
   "source": []
  },
  {
   "cell_type": "code",
   "execution_count": null,
   "id": "elect-hungary",
   "metadata": {},
   "outputs": [],
   "source": []
  },
  {
   "cell_type": "code",
   "execution_count": null,
   "id": "american-edward",
   "metadata": {},
   "outputs": [],
   "source": []
  },
  {
   "cell_type": "code",
   "execution_count": null,
   "id": "sunset-cleaners",
   "metadata": {},
   "outputs": [],
   "source": []
  },
  {
   "cell_type": "markdown",
   "id": "tribal-alberta",
   "metadata": {},
   "source": [
    "### 3.2 "
   ]
  },
  {
   "cell_type": "markdown",
   "id": "contemporary-kruger",
   "metadata": {},
   "source": [
    "#### 3.2.a"
   ]
  },
  {
   "cell_type": "code",
   "execution_count": null,
   "id": "metropolitan-seattle",
   "metadata": {},
   "outputs": [],
   "source": []
  },
  {
   "cell_type": "markdown",
   "id": "affected-radius",
   "metadata": {},
   "source": [
    "#### 3.2.b"
   ]
  },
  {
   "cell_type": "code",
   "execution_count": null,
   "id": "intellectual-music",
   "metadata": {},
   "outputs": [],
   "source": []
  },
  {
   "cell_type": "code",
   "execution_count": null,
   "id": "behind-operations",
   "metadata": {},
   "outputs": [],
   "source": []
  },
  {
   "cell_type": "markdown",
   "id": "criminal-sauce",
   "metadata": {},
   "source": [
    "### 3.3"
   ]
  },
  {
   "cell_type": "code",
   "execution_count": null,
   "id": "casual-share",
   "metadata": {},
   "outputs": [],
   "source": []
  },
  {
   "cell_type": "markdown",
   "id": "right-parliament",
   "metadata": {},
   "source": [
    "### 3.4"
   ]
  },
  {
   "cell_type": "code",
   "execution_count": null,
   "id": "comparative-blood",
   "metadata": {},
   "outputs": [],
   "source": []
  },
  {
   "cell_type": "code",
   "execution_count": null,
   "id": "afraid-separate",
   "metadata": {},
   "outputs": [],
   "source": []
  },
  {
   "cell_type": "code",
   "execution_count": null,
   "id": "ongoing-cursor",
   "metadata": {},
   "outputs": [],
   "source": []
  },
  {
   "cell_type": "markdown",
   "id": "turned-livestock",
   "metadata": {},
   "source": [
    "## 4. REST APIs and Block Chain Technology"
   ]
  },
  {
   "cell_type": "code",
   "execution_count": null,
   "id": "fundamental-schema",
   "metadata": {},
   "outputs": [],
   "source": []
  }
 ],
 "metadata": {
  "kernelspec": {
   "display_name": "Python 3",
   "language": "python",
   "name": "python3"
  },
  "language_info": {
   "codemirror_mode": {
    "name": "ipython",
    "version": 3
   },
   "file_extension": ".py",
   "mimetype": "text/x-python",
   "name": "python",
   "nbconvert_exporter": "python",
   "pygments_lexer": "ipython3",
   "version": "3.6.8"
  }
 },
 "nbformat": 4,
 "nbformat_minor": 5
}
